{
 "cells": [
  {
   "cell_type": "code",
   "execution_count": 1,
   "id": "483a8362",
   "metadata": {
    "_cell_guid": "b1076dfc-b9ad-4769-8c92-a6c4dae69d19",
    "_uuid": "8f2839f25d086af736a60e9eeb907d3b93b6e0e5",
    "execution": {
     "iopub.execute_input": "2023-10-31T20:33:01.558522Z",
     "iopub.status.busy": "2023-10-31T20:33:01.557746Z",
     "iopub.status.idle": "2023-10-31T20:33:02.029774Z",
     "shell.execute_reply": "2023-10-31T20:33:02.028608Z"
    },
    "papermill": {
     "duration": 0.501789,
     "end_time": "2023-10-31T20:33:02.033034",
     "exception": false,
     "start_time": "2023-10-31T20:33:01.531245",
     "status": "completed"
    },
    "tags": []
   },
   "outputs": [
    {
     "name": "stdout",
     "output_type": "stream",
     "text": [
      "/kaggle/input/witcher-book-characters/characters.csv\n",
      "/kaggle/input/witcher-books/data/1 The Last Wish.txt\n",
      "/kaggle/input/witcher-books/data/7 The Lady of the Lake.txt\n",
      "/kaggle/input/witcher-books/data/8 something ends something begins.txt\n",
      "/kaggle/input/witcher-books/data/3 Blood of Elves.txt\n",
      "/kaggle/input/witcher-books/data/2 The Sword of Destiny.txt\n",
      "/kaggle/input/witcher-books/data/6 The Tower of the Swallow.txt\n",
      "/kaggle/input/witcher-books/data/4 Times of Contempt.txt\n",
      "/kaggle/input/witcher-books/data/5 Baptism of Fire.txt\n"
     ]
    }
   ],
   "source": [
    "# This Python 3 environment comes with many helpful analytics libraries installed\n",
    "# It is defined by the kaggle/python Docker image: https://github.com/kaggle/docker-python\n",
    "# For example, here's several helpful packages to load\n",
    "\n",
    "import numpy as np # linear algebra\n",
    "import pandas as pd # data processing, CSV file I/O (e.g. pd.read_csv)\n",
    "\n",
    "# Input data files are available in the read-only \"../input/\" directory\n",
    "# For example, running this (by clicking run or pressing Shift+Enter) will list all files under the input directory\n",
    "\n",
    "import os\n",
    "for dirname, _, filenames in os.walk('/kaggle/input'):\n",
    "    for filename in filenames:\n",
    "        print(os.path.join(dirname, filename))\n",
    "\n",
    "# You can write up to 20GB to the current directory (/kaggle/working/) that gets preserved as output when you create a version using \"Save & Run All\" \n",
    "# You can also write temporary files to /kaggle/temp/, but they won't be saved outside of the current session"
   ]
  },
  {
   "cell_type": "markdown",
   "id": "9cb91bbb",
   "metadata": {
    "papermill": {
     "duration": 0.016859,
     "end_time": "2023-10-31T20:33:02.067943",
     "exception": false,
     "start_time": "2023-10-31T20:33:02.051084",
     "status": "completed"
    },
    "tags": []
   },
   "source": [
    "# Libraries"
   ]
  },
  {
   "cell_type": "code",
   "execution_count": 2,
   "id": "ad18fe40",
   "metadata": {
    "execution": {
     "iopub.execute_input": "2023-10-31T20:33:02.105249Z",
     "iopub.status.busy": "2023-10-31T20:33:02.104239Z",
     "iopub.status.idle": "2023-10-31T20:33:17.837594Z",
     "shell.execute_reply": "2023-10-31T20:33:17.836331Z"
    },
    "papermill": {
     "duration": 15.75534,
     "end_time": "2023-10-31T20:33:17.840611",
     "exception": false,
     "start_time": "2023-10-31T20:33:02.085271",
     "status": "completed"
    },
    "tags": []
   },
   "outputs": [],
   "source": [
    "import pandas as pd\n",
    "import numpy as np\n",
    "import spacy\n",
    "from spacy import displacy\n",
    "import networkx as nx\n",
    "\n",
    "import matplotlib.pyplot as plt"
   ]
  },
  {
   "cell_type": "code",
   "execution_count": 3,
   "id": "3f245a0c",
   "metadata": {
    "execution": {
     "iopub.execute_input": "2023-10-31T20:33:17.876951Z",
     "iopub.status.busy": "2023-10-31T20:33:17.876110Z",
     "iopub.status.idle": "2023-10-31T20:33:43.349743Z",
     "shell.execute_reply": "2023-10-31T20:33:43.348308Z"
    },
    "papermill": {
     "duration": 25.49476,
     "end_time": "2023-10-31T20:33:43.352633",
     "exception": false,
     "start_time": "2023-10-31T20:33:17.857873",
     "status": "completed"
    },
    "tags": []
   },
   "outputs": [
    {
     "name": "stdout",
     "output_type": "stream",
     "text": [
      "Collecting en-core-web-sm==3.6.0\r\n",
      "  Downloading https://github.com/explosion/spacy-models/releases/download/en_core_web_sm-3.6.0/en_core_web_sm-3.6.0-py3-none-any.whl (12.8 MB)\r\n",
      "\u001b[2K     \u001b[90m━━━━━━━━━━━━━━━━━━━━━━━━━━━━━━━━━━━━━━━━\u001b[0m \u001b[32m12.8/12.8 MB\u001b[0m \u001b[31m55.3 MB/s\u001b[0m eta \u001b[36m0:00:00\u001b[0m\r\n",
      "\u001b[?25hRequirement already satisfied: spacy<3.7.0,>=3.6.0 in /opt/conda/lib/python3.10/site-packages (from en-core-web-sm==3.6.0) (3.6.1)\r\n",
      "Requirement already satisfied: spacy-legacy<3.1.0,>=3.0.11 in /opt/conda/lib/python3.10/site-packages (from spacy<3.7.0,>=3.6.0->en-core-web-sm==3.6.0) (3.0.12)\r\n",
      "Requirement already satisfied: spacy-loggers<2.0.0,>=1.0.0 in /opt/conda/lib/python3.10/site-packages (from spacy<3.7.0,>=3.6.0->en-core-web-sm==3.6.0) (1.0.4)\r\n",
      "Requirement already satisfied: murmurhash<1.1.0,>=0.28.0 in /opt/conda/lib/python3.10/site-packages (from spacy<3.7.0,>=3.6.0->en-core-web-sm==3.6.0) (1.0.9)\r\n",
      "Requirement already satisfied: cymem<2.1.0,>=2.0.2 in /opt/conda/lib/python3.10/site-packages (from spacy<3.7.0,>=3.6.0->en-core-web-sm==3.6.0) (2.0.7)\r\n",
      "Requirement already satisfied: preshed<3.1.0,>=3.0.2 in /opt/conda/lib/python3.10/site-packages (from spacy<3.7.0,>=3.6.0->en-core-web-sm==3.6.0) (3.0.8)\r\n",
      "Requirement already satisfied: thinc<8.2.0,>=8.1.8 in /opt/conda/lib/python3.10/site-packages (from spacy<3.7.0,>=3.6.0->en-core-web-sm==3.6.0) (8.1.12)\r\n",
      "Requirement already satisfied: wasabi<1.2.0,>=0.9.1 in /opt/conda/lib/python3.10/site-packages (from spacy<3.7.0,>=3.6.0->en-core-web-sm==3.6.0) (1.1.2)\r\n",
      "Requirement already satisfied: srsly<3.0.0,>=2.4.3 in /opt/conda/lib/python3.10/site-packages (from spacy<3.7.0,>=3.6.0->en-core-web-sm==3.6.0) (2.4.7)\r\n",
      "Requirement already satisfied: catalogue<2.1.0,>=2.0.6 in /opt/conda/lib/python3.10/site-packages (from spacy<3.7.0,>=3.6.0->en-core-web-sm==3.6.0) (2.0.9)\r\n",
      "Requirement already satisfied: typer<0.10.0,>=0.3.0 in /opt/conda/lib/python3.10/site-packages (from spacy<3.7.0,>=3.6.0->en-core-web-sm==3.6.0) (0.9.0)\r\n",
      "Requirement already satisfied: pathy>=0.10.0 in /opt/conda/lib/python3.10/site-packages (from spacy<3.7.0,>=3.6.0->en-core-web-sm==3.6.0) (0.10.2)\r\n",
      "Requirement already satisfied: smart-open<7.0.0,>=5.2.1 in /opt/conda/lib/python3.10/site-packages (from spacy<3.7.0,>=3.6.0->en-core-web-sm==3.6.0) (6.3.0)\r\n",
      "Requirement already satisfied: tqdm<5.0.0,>=4.38.0 in /opt/conda/lib/python3.10/site-packages (from spacy<3.7.0,>=3.6.0->en-core-web-sm==3.6.0) (4.66.1)\r\n",
      "Requirement already satisfied: numpy>=1.15.0 in /opt/conda/lib/python3.10/site-packages (from spacy<3.7.0,>=3.6.0->en-core-web-sm==3.6.0) (1.23.5)\r\n",
      "Requirement already satisfied: requests<3.0.0,>=2.13.0 in /opt/conda/lib/python3.10/site-packages (from spacy<3.7.0,>=3.6.0->en-core-web-sm==3.6.0) (2.31.0)\r\n",
      "Requirement already satisfied: pydantic!=1.8,!=1.8.1,<3.0.0,>=1.7.4 in /opt/conda/lib/python3.10/site-packages (from spacy<3.7.0,>=3.6.0->en-core-web-sm==3.6.0) (1.10.9)\r\n",
      "Requirement already satisfied: jinja2 in /opt/conda/lib/python3.10/site-packages (from spacy<3.7.0,>=3.6.0->en-core-web-sm==3.6.0) (3.1.2)\r\n",
      "Requirement already satisfied: setuptools in /opt/conda/lib/python3.10/site-packages (from spacy<3.7.0,>=3.6.0->en-core-web-sm==3.6.0) (68.0.0)\r\n",
      "Requirement already satisfied: packaging>=20.0 in /opt/conda/lib/python3.10/site-packages (from spacy<3.7.0,>=3.6.0->en-core-web-sm==3.6.0) (21.3)\r\n",
      "Requirement already satisfied: langcodes<4.0.0,>=3.2.0 in /opt/conda/lib/python3.10/site-packages (from spacy<3.7.0,>=3.6.0->en-core-web-sm==3.6.0) (3.3.0)\r\n",
      "Requirement already satisfied: pyparsing!=3.0.5,>=2.0.2 in /opt/conda/lib/python3.10/site-packages (from packaging>=20.0->spacy<3.7.0,>=3.6.0->en-core-web-sm==3.6.0) (3.0.9)\r\n",
      "Requirement already satisfied: typing-extensions>=4.2.0 in /opt/conda/lib/python3.10/site-packages (from pydantic!=1.8,!=1.8.1,<3.0.0,>=1.7.4->spacy<3.7.0,>=3.6.0->en-core-web-sm==3.6.0) (4.6.3)\r\n",
      "Requirement already satisfied: charset-normalizer<4,>=2 in /opt/conda/lib/python3.10/site-packages (from requests<3.0.0,>=2.13.0->spacy<3.7.0,>=3.6.0->en-core-web-sm==3.6.0) (3.1.0)\r\n",
      "Requirement already satisfied: idna<4,>=2.5 in /opt/conda/lib/python3.10/site-packages (from requests<3.0.0,>=2.13.0->spacy<3.7.0,>=3.6.0->en-core-web-sm==3.6.0) (3.4)\r\n",
      "Requirement already satisfied: urllib3<3,>=1.21.1 in /opt/conda/lib/python3.10/site-packages (from requests<3.0.0,>=2.13.0->spacy<3.7.0,>=3.6.0->en-core-web-sm==3.6.0) (1.26.15)\r\n",
      "Requirement already satisfied: certifi>=2017.4.17 in /opt/conda/lib/python3.10/site-packages (from requests<3.0.0,>=2.13.0->spacy<3.7.0,>=3.6.0->en-core-web-sm==3.6.0) (2023.7.22)\r\n",
      "Requirement already satisfied: blis<0.8.0,>=0.7.8 in /opt/conda/lib/python3.10/site-packages (from thinc<8.2.0,>=8.1.8->spacy<3.7.0,>=3.6.0->en-core-web-sm==3.6.0) (0.7.10)\r\n",
      "Requirement already satisfied: confection<1.0.0,>=0.0.1 in /opt/conda/lib/python3.10/site-packages (from thinc<8.2.0,>=8.1.8->spacy<3.7.0,>=3.6.0->en-core-web-sm==3.6.0) (0.1.1)\r\n",
      "Requirement already satisfied: click<9.0.0,>=7.1.1 in /opt/conda/lib/python3.10/site-packages (from typer<0.10.0,>=0.3.0->spacy<3.7.0,>=3.6.0->en-core-web-sm==3.6.0) (8.1.7)\r\n",
      "Requirement already satisfied: MarkupSafe>=2.0 in /opt/conda/lib/python3.10/site-packages (from jinja2->spacy<3.7.0,>=3.6.0->en-core-web-sm==3.6.0) (2.1.3)\r\n",
      "\u001b[38;5;2m✔ Download and installation successful\u001b[0m\r\n",
      "You can now load the package via spacy.load('en_core_web_sm')\r\n"
     ]
    }
   ],
   "source": [
    "!python3 -m spacy download en_core_web_sm"
   ]
  },
  {
   "cell_type": "code",
   "execution_count": 4,
   "id": "b5a05fdf",
   "metadata": {
    "execution": {
     "iopub.execute_input": "2023-10-31T20:33:43.392642Z",
     "iopub.status.busy": "2023-10-31T20:33:43.392222Z",
     "iopub.status.idle": "2023-10-31T20:33:44.780776Z",
     "shell.execute_reply": "2023-10-31T20:33:44.779562Z"
    },
    "papermill": {
     "duration": 1.412273,
     "end_time": "2023-10-31T20:33:44.783674",
     "exception": false,
     "start_time": "2023-10-31T20:33:43.371401",
     "status": "completed"
    },
    "tags": []
   },
   "outputs": [],
   "source": [
    "# Load spacy English languague model\n",
    "NER = spacy.load(\"en_core_web_sm\")"
   ]
  },
  {
   "cell_type": "markdown",
   "id": "b6904006",
   "metadata": {
    "papermill": {
     "duration": 0.018304,
     "end_time": "2023-10-31T20:33:44.820792",
     "exception": false,
     "start_time": "2023-10-31T20:33:44.802488",
     "status": "completed"
    },
    "tags": []
   },
   "source": [
    "# Load books"
   ]
  },
  {
   "cell_type": "code",
   "execution_count": 5,
   "id": "38c9e820",
   "metadata": {
    "execution": {
     "iopub.execute_input": "2023-10-31T20:33:44.859625Z",
     "iopub.status.busy": "2023-10-31T20:33:44.859193Z",
     "iopub.status.idle": "2023-10-31T20:33:44.866437Z",
     "shell.execute_reply": "2023-10-31T20:33:44.865319Z"
    },
    "papermill": {
     "duration": 0.029719,
     "end_time": "2023-10-31T20:33:44.868910",
     "exception": false,
     "start_time": "2023-10-31T20:33:44.839191",
     "status": "completed"
    },
    "tags": []
   },
   "outputs": [],
   "source": [
    "import os\n",
    " \n",
    "# Get all book files in the data directory\n",
    "all_books = [b for b in os.scandir('/kaggle/input/witcher-books/data') if '.txt' in b.name]"
   ]
  },
  {
   "cell_type": "code",
   "execution_count": 6,
   "id": "71e6b973",
   "metadata": {
    "execution": {
     "iopub.execute_input": "2023-10-31T20:33:44.907600Z",
     "iopub.status.busy": "2023-10-31T20:33:44.907164Z",
     "iopub.status.idle": "2023-10-31T20:33:44.915863Z",
     "shell.execute_reply": "2023-10-31T20:33:44.914726Z"
    },
    "papermill": {
     "duration": 0.030937,
     "end_time": "2023-10-31T20:33:44.918229",
     "exception": false,
     "start_time": "2023-10-31T20:33:44.887292",
     "status": "completed"
    },
    "tags": []
   },
   "outputs": [
    {
     "data": {
      "text/plain": [
       "[<DirEntry '1 The Last Wish.txt'>,\n",
       " <DirEntry '7 The Lady of the Lake.txt'>,\n",
       " <DirEntry '8 something ends something begins.txt'>,\n",
       " <DirEntry '3 Blood of Elves.txt'>,\n",
       " <DirEntry '2 The Sword of Destiny.txt'>,\n",
       " <DirEntry '6 The Tower of the Swallow.txt'>,\n",
       " <DirEntry '4 Times of Contempt.txt'>,\n",
       " <DirEntry '5 Baptism of Fire.txt'>]"
      ]
     },
     "execution_count": 6,
     "metadata": {},
     "output_type": "execute_result"
    }
   ],
   "source": [
    "all_books"
   ]
  },
  {
   "cell_type": "code",
   "execution_count": 7,
   "id": "1d8f9e46",
   "metadata": {
    "execution": {
     "iopub.execute_input": "2023-10-31T20:33:44.959045Z",
     "iopub.status.busy": "2023-10-31T20:33:44.958581Z",
     "iopub.status.idle": "2023-10-31T20:33:44.982185Z",
     "shell.execute_reply": "2023-10-31T20:33:44.981262Z"
    },
    "papermill": {
     "duration": 0.047329,
     "end_time": "2023-10-31T20:33:44.985018",
     "exception": false,
     "start_time": "2023-10-31T20:33:44.937689",
     "status": "completed"
    },
    "tags": []
   },
   "outputs": [],
   "source": [
    "all_books = pd.read_csv(\"/kaggle/input/witcher-book-characters/characters.csv\")"
   ]
  },
  {
   "cell_type": "code",
   "execution_count": 8,
   "id": "2464c6e4",
   "metadata": {
    "execution": {
     "iopub.execute_input": "2023-10-31T20:33:45.025578Z",
     "iopub.status.busy": "2023-10-31T20:33:45.024451Z",
     "iopub.status.idle": "2023-10-31T20:33:45.048358Z",
     "shell.execute_reply": "2023-10-31T20:33:45.047383Z"
    },
    "papermill": {
     "duration": 0.046786,
     "end_time": "2023-10-31T20:33:45.050886",
     "exception": false,
     "start_time": "2023-10-31T20:33:45.004100",
     "status": "completed"
    },
    "tags": []
   },
   "outputs": [
    {
     "data": {
      "text/html": [
       "<div>\n",
       "<style scoped>\n",
       "    .dataframe tbody tr th:only-of-type {\n",
       "        vertical-align: middle;\n",
       "    }\n",
       "\n",
       "    .dataframe tbody tr th {\n",
       "        vertical-align: top;\n",
       "    }\n",
       "\n",
       "    .dataframe thead th {\n",
       "        text-align: right;\n",
       "    }\n",
       "</style>\n",
       "<table border=\"1\" class=\"dataframe\">\n",
       "  <thead>\n",
       "    <tr style=\"text-align: right;\">\n",
       "      <th></th>\n",
       "      <th>book</th>\n",
       "      <th>character</th>\n",
       "    </tr>\n",
       "  </thead>\n",
       "  <tbody>\n",
       "    <tr>\n",
       "      <th>0</th>\n",
       "      <td>Category:Baptism of Fire characters</td>\n",
       "      <td>Adalia</td>\n",
       "    </tr>\n",
       "    <tr>\n",
       "      <th>1</th>\n",
       "      <td>Category:Baptism of Fire characters</td>\n",
       "      <td>Adela</td>\n",
       "    </tr>\n",
       "    <tr>\n",
       "      <th>2</th>\n",
       "      <td>Category:Baptism of Fire characters</td>\n",
       "      <td>Aen Saevherne</td>\n",
       "    </tr>\n",
       "    <tr>\n",
       "      <th>3</th>\n",
       "      <td>Category:Baptism of Fire characters</td>\n",
       "      <td>Aevenien</td>\n",
       "    </tr>\n",
       "    <tr>\n",
       "      <th>4</th>\n",
       "      <td>Category:Baptism of Fire characters</td>\n",
       "      <td>Aglaïs</td>\n",
       "    </tr>\n",
       "    <tr>\n",
       "      <th>...</th>\n",
       "      <td>...</td>\n",
       "      <td>...</td>\n",
       "    </tr>\n",
       "    <tr>\n",
       "      <th>1270</th>\n",
       "      <td>Category:Time of Contempt characters</td>\n",
       "      <td>Yanna of Murivel</td>\n",
       "    </tr>\n",
       "    <tr>\n",
       "      <th>1271</th>\n",
       "      <td>Category:Time of Contempt characters</td>\n",
       "      <td>Yarpen Zigrin</td>\n",
       "    </tr>\n",
       "    <tr>\n",
       "      <th>1272</th>\n",
       "      <td>Category:Time of Contempt characters</td>\n",
       "      <td>Yennefer of Vengerberg</td>\n",
       "    </tr>\n",
       "    <tr>\n",
       "      <th>1273</th>\n",
       "      <td>Category:Time of Contempt characters</td>\n",
       "      <td>Yiolenta Suarez</td>\n",
       "    </tr>\n",
       "    <tr>\n",
       "      <th>1274</th>\n",
       "      <td>Category:Time of Contempt characters</td>\n",
       "      <td>Zyvik</td>\n",
       "    </tr>\n",
       "  </tbody>\n",
       "</table>\n",
       "<p>1275 rows × 2 columns</p>\n",
       "</div>"
      ],
      "text/plain": [
       "                                      book               character\n",
       "0      Category:Baptism of Fire characters                  Adalia\n",
       "1      Category:Baptism of Fire characters                   Adela\n",
       "2      Category:Baptism of Fire characters           Aen Saevherne\n",
       "3      Category:Baptism of Fire characters                Aevenien\n",
       "4      Category:Baptism of Fire characters                  Aglaïs\n",
       "...                                    ...                     ...\n",
       "1270  Category:Time of Contempt characters        Yanna of Murivel\n",
       "1271  Category:Time of Contempt characters           Yarpen Zigrin\n",
       "1272  Category:Time of Contempt characters  Yennefer of Vengerberg\n",
       "1273  Category:Time of Contempt characters         Yiolenta Suarez\n",
       "1274  Category:Time of Contempt characters                   Zyvik\n",
       "\n",
       "[1275 rows x 2 columns]"
      ]
     },
     "execution_count": 8,
     "metadata": {},
     "output_type": "execute_result"
    }
   ],
   "source": [
    "all_books"
   ]
  },
  {
   "cell_type": "code",
   "execution_count": 9,
   "id": "778d7897",
   "metadata": {
    "execution": {
     "iopub.execute_input": "2023-10-31T20:33:45.090889Z",
     "iopub.status.busy": "2023-10-31T20:33:45.090082Z",
     "iopub.status.idle": "2023-10-31T20:33:47.734422Z",
     "shell.execute_reply": "2023-10-31T20:33:47.732679Z"
    },
    "papermill": {
     "duration": 2.6669,
     "end_time": "2023-10-31T20:33:47.736620",
     "exception": true,
     "start_time": "2023-10-31T20:33:45.069720",
     "status": "failed"
    },
    "tags": []
   },
   "outputs": [
    {
     "ename": "KeyError",
     "evalue": "1",
     "output_type": "error",
     "traceback": [
      "\u001b[0;31m---------------------------------------------------------------------------\u001b[0m",
      "\u001b[0;31mKeyError\u001b[0m                                  Traceback (most recent call last)",
      "File \u001b[0;32m/opt/conda/lib/python3.10/site-packages/pandas/core/indexes/base.py:3653\u001b[0m, in \u001b[0;36mIndex.get_loc\u001b[0;34m(self, key)\u001b[0m\n\u001b[1;32m   3652\u001b[0m \u001b[38;5;28;01mtry\u001b[39;00m:\n\u001b[0;32m-> 3653\u001b[0m     \u001b[38;5;28;01mreturn\u001b[39;00m \u001b[38;5;28;43mself\u001b[39;49m\u001b[38;5;241;43m.\u001b[39;49m\u001b[43m_engine\u001b[49m\u001b[38;5;241;43m.\u001b[39;49m\u001b[43mget_loc\u001b[49m\u001b[43m(\u001b[49m\u001b[43mcasted_key\u001b[49m\u001b[43m)\u001b[49m\n\u001b[1;32m   3654\u001b[0m \u001b[38;5;28;01mexcept\u001b[39;00m \u001b[38;5;167;01mKeyError\u001b[39;00m \u001b[38;5;28;01mas\u001b[39;00m err:\n",
      "File \u001b[0;32m/opt/conda/lib/python3.10/site-packages/pandas/_libs/index.pyx:147\u001b[0m, in \u001b[0;36mpandas._libs.index.IndexEngine.get_loc\u001b[0;34m()\u001b[0m\n",
      "File \u001b[0;32m/opt/conda/lib/python3.10/site-packages/pandas/_libs/index.pyx:176\u001b[0m, in \u001b[0;36mpandas._libs.index.IndexEngine.get_loc\u001b[0;34m()\u001b[0m\n",
      "File \u001b[0;32mpandas/_libs/hashtable_class_helper.pxi:7080\u001b[0m, in \u001b[0;36mpandas._libs.hashtable.PyObjectHashTable.get_item\u001b[0;34m()\u001b[0m\n",
      "File \u001b[0;32mpandas/_libs/hashtable_class_helper.pxi:7088\u001b[0m, in \u001b[0;36mpandas._libs.hashtable.PyObjectHashTable.get_item\u001b[0;34m()\u001b[0m\n",
      "\u001b[0;31mKeyError\u001b[0m: 1",
      "\nThe above exception was the direct cause of the following exception:\n",
      "\u001b[0;31mKeyError\u001b[0m                                  Traceback (most recent call last)",
      "Cell \u001b[0;32mIn[9], line 1\u001b[0m\n\u001b[0;32m----> 1\u001b[0m book \u001b[38;5;241m=\u001b[39m \u001b[43mall_books\u001b[49m\u001b[43m[\u001b[49m\u001b[38;5;241;43m1\u001b[39;49m\u001b[43m]\u001b[49m\n\u001b[1;32m      2\u001b[0m book_text \u001b[38;5;241m=\u001b[39m \u001b[38;5;28mopen\u001b[39m(book)\u001b[38;5;241m.\u001b[39mread()\n\u001b[1;32m      3\u001b[0m book_doc \u001b[38;5;241m=\u001b[39m NER(book_text)\n",
      "File \u001b[0;32m/opt/conda/lib/python3.10/site-packages/pandas/core/frame.py:3761\u001b[0m, in \u001b[0;36mDataFrame.__getitem__\u001b[0;34m(self, key)\u001b[0m\n\u001b[1;32m   3759\u001b[0m \u001b[38;5;28;01mif\u001b[39;00m \u001b[38;5;28mself\u001b[39m\u001b[38;5;241m.\u001b[39mcolumns\u001b[38;5;241m.\u001b[39mnlevels \u001b[38;5;241m>\u001b[39m \u001b[38;5;241m1\u001b[39m:\n\u001b[1;32m   3760\u001b[0m     \u001b[38;5;28;01mreturn\u001b[39;00m \u001b[38;5;28mself\u001b[39m\u001b[38;5;241m.\u001b[39m_getitem_multilevel(key)\n\u001b[0;32m-> 3761\u001b[0m indexer \u001b[38;5;241m=\u001b[39m \u001b[38;5;28;43mself\u001b[39;49m\u001b[38;5;241;43m.\u001b[39;49m\u001b[43mcolumns\u001b[49m\u001b[38;5;241;43m.\u001b[39;49m\u001b[43mget_loc\u001b[49m\u001b[43m(\u001b[49m\u001b[43mkey\u001b[49m\u001b[43m)\u001b[49m\n\u001b[1;32m   3762\u001b[0m \u001b[38;5;28;01mif\u001b[39;00m is_integer(indexer):\n\u001b[1;32m   3763\u001b[0m     indexer \u001b[38;5;241m=\u001b[39m [indexer]\n",
      "File \u001b[0;32m/opt/conda/lib/python3.10/site-packages/pandas/core/indexes/base.py:3655\u001b[0m, in \u001b[0;36mIndex.get_loc\u001b[0;34m(self, key)\u001b[0m\n\u001b[1;32m   3653\u001b[0m     \u001b[38;5;28;01mreturn\u001b[39;00m \u001b[38;5;28mself\u001b[39m\u001b[38;5;241m.\u001b[39m_engine\u001b[38;5;241m.\u001b[39mget_loc(casted_key)\n\u001b[1;32m   3654\u001b[0m \u001b[38;5;28;01mexcept\u001b[39;00m \u001b[38;5;167;01mKeyError\u001b[39;00m \u001b[38;5;28;01mas\u001b[39;00m err:\n\u001b[0;32m-> 3655\u001b[0m     \u001b[38;5;28;01mraise\u001b[39;00m \u001b[38;5;167;01mKeyError\u001b[39;00m(key) \u001b[38;5;28;01mfrom\u001b[39;00m \u001b[38;5;21;01merr\u001b[39;00m\n\u001b[1;32m   3656\u001b[0m \u001b[38;5;28;01mexcept\u001b[39;00m \u001b[38;5;167;01mTypeError\u001b[39;00m:\n\u001b[1;32m   3657\u001b[0m     \u001b[38;5;66;03m# If we have a listlike key, _check_indexing_error will raise\u001b[39;00m\n\u001b[1;32m   3658\u001b[0m     \u001b[38;5;66;03m#  InvalidIndexError. Otherwise we fall through and re-raise\u001b[39;00m\n\u001b[1;32m   3659\u001b[0m     \u001b[38;5;66;03m#  the TypeError.\u001b[39;00m\n\u001b[1;32m   3660\u001b[0m     \u001b[38;5;28mself\u001b[39m\u001b[38;5;241m.\u001b[39m_check_indexing_error(key)\n",
      "\u001b[0;31mKeyError\u001b[0m: 1"
     ]
    }
   ],
   "source": [
    "book = all_books[1]\n",
    "book_text = open(book).read()\n",
    "book_doc = NER(book_text)"
   ]
  },
  {
   "cell_type": "code",
   "execution_count": null,
   "id": "bf55b4ac",
   "metadata": {
    "execution": {
     "iopub.execute_input": "2023-10-31T19:22:48.729629Z",
     "iopub.status.busy": "2023-10-31T19:22:48.728089Z",
     "iopub.status.idle": "2023-10-31T19:22:48.847954Z",
     "shell.execute_reply": "2023-10-31T19:22:48.846241Z",
     "shell.execute_reply.started": "2023-10-31T19:22:48.729579Z"
    },
    "papermill": {
     "duration": null,
     "end_time": null,
     "exception": null,
     "start_time": null,
     "status": "pending"
    },
    "tags": []
   },
   "outputs": [],
   "source": [
    "# Visualize identified entities\n",
    "displacy.render(book_doc[0:2000], style=\"ent\", jupyter=True)"
   ]
  },
  {
   "cell_type": "markdown",
   "id": "1f765055",
   "metadata": {
    "papermill": {
     "duration": null,
     "end_time": null,
     "exception": null,
     "start_time": null,
     "status": "pending"
    },
    "tags": []
   },
   "source": [
    "# Load character names"
   ]
  },
  {
   "cell_type": "code",
   "execution_count": null,
   "id": "34271d51",
   "metadata": {
    "execution": {
     "iopub.execute_input": "2023-10-31T19:23:19.023891Z",
     "iopub.status.busy": "2023-10-31T19:23:19.023463Z",
     "iopub.status.idle": "2023-10-31T19:23:19.037009Z",
     "shell.execute_reply": "2023-10-31T19:23:19.035399Z",
     "shell.execute_reply.started": "2023-10-31T19:23:19.023857Z"
    },
    "papermill": {
     "duration": null,
     "end_time": null,
     "exception": null,
     "start_time": null,
     "status": "pending"
    },
    "tags": []
   },
   "outputs": [],
   "source": [
    "# Read characters\n",
    "character_df = pd.read_csv(\"/kaggle/input/witcher-book-characters/characters.csv\")"
   ]
  },
  {
   "cell_type": "code",
   "execution_count": null,
   "id": "89edb0b3",
   "metadata": {
    "execution": {
     "iopub.execute_input": "2023-10-31T19:23:19.552041Z",
     "iopub.status.busy": "2023-10-31T19:23:19.550609Z",
     "iopub.status.idle": "2023-10-31T19:23:19.568372Z",
     "shell.execute_reply": "2023-10-31T19:23:19.566906Z",
     "shell.execute_reply.started": "2023-10-31T19:23:19.551994Z"
    },
    "papermill": {
     "duration": null,
     "end_time": null,
     "exception": null,
     "start_time": null,
     "status": "pending"
    },
    "tags": []
   },
   "outputs": [],
   "source": [
    "# Remove brackets and text within brackets\n",
    "import re \n",
    "character_df['character'] = character_df['character'].apply(lambda x: re.sub(\"[\\(].*?[\\)]\", \"\", x)) \n",
    "character_df['character_firstname'] = character_df['character'].apply(lambda x: x.split(' ', 1)[0])"
   ]
  },
  {
   "cell_type": "code",
   "execution_count": null,
   "id": "98f2ab75",
   "metadata": {
    "execution": {
     "iopub.execute_input": "2023-10-31T19:23:41.399582Z",
     "iopub.status.busy": "2023-10-31T19:23:41.399003Z",
     "iopub.status.idle": "2023-10-31T19:23:41.418882Z",
     "shell.execute_reply": "2023-10-31T19:23:41.417458Z",
     "shell.execute_reply.started": "2023-10-31T19:23:41.399525Z"
    },
    "papermill": {
     "duration": null,
     "end_time": null,
     "exception": null,
     "start_time": null,
     "status": "pending"
    },
    "tags": []
   },
   "outputs": [],
   "source": [
    "pd.set_option('display.max_rows', None)\n",
    "character_df.head()"
   ]
  },
  {
   "cell_type": "markdown",
   "id": "e5213876",
   "metadata": {
    "papermill": {
     "duration": null,
     "end_time": null,
     "exception": null,
     "start_time": null,
     "status": "pending"
    },
    "tags": []
   },
   "source": [
    "# Get named entity list per sentence"
   ]
  },
  {
   "cell_type": "code",
   "execution_count": null,
   "id": "2095520f",
   "metadata": {
    "execution": {
     "iopub.execute_input": "2023-10-31T19:26:35.704873Z",
     "iopub.status.busy": "2023-10-31T19:26:35.704352Z",
     "iopub.status.idle": "2023-10-31T19:34:18.601931Z",
     "shell.execute_reply": "2023-10-31T19:34:18.600141Z",
     "shell.execute_reply.started": "2023-10-31T19:26:35.704835Z"
    },
    "papermill": {
     "duration": null,
     "end_time": null,
     "exception": null,
     "start_time": null,
     "status": "pending"
    },
    "tags": []
   },
   "outputs": [],
   "source": [
    "sent_entity_df = []\n",
    "\n",
    "# Loop through sentences, store named entity list for each sentence\n",
    "for sent in book_doc.sents:\n",
    "    entity_list = [ent.text for ent in sent.ents]\n",
    "    sent_entity_df.append({\"sentence\": sent, \"entities\": entity_list})\n",
    "    \n",
    "sent_entity_df = pd.DataFrame(sent_entity_df)"
   ]
  },
  {
   "cell_type": "code",
   "execution_count": null,
   "id": "b49c947d",
   "metadata": {
    "execution": {
     "iopub.execute_input": "2023-10-31T19:34:19.066531Z",
     "iopub.status.busy": "2023-10-31T19:34:19.066111Z",
     "iopub.status.idle": "2023-10-31T19:34:19.095749Z",
     "shell.execute_reply": "2023-10-31T19:34:19.093937Z",
     "shell.execute_reply.started": "2023-10-31T19:34:19.066498Z"
    },
    "papermill": {
     "duration": null,
     "end_time": null,
     "exception": null,
     "start_time": null,
     "status": "pending"
    },
    "tags": []
   },
   "outputs": [],
   "source": [
    "sent_entity_df.head(10)"
   ]
  },
  {
   "cell_type": "code",
   "execution_count": null,
   "id": "c841188d",
   "metadata": {
    "execution": {
     "iopub.execute_input": "2023-10-31T19:42:12.193409Z",
     "iopub.status.busy": "2023-10-31T19:42:12.192894Z",
     "iopub.status.idle": "2023-10-31T19:42:12.200740Z",
     "shell.execute_reply": "2023-10-31T19:42:12.199236Z",
     "shell.execute_reply.started": "2023-10-31T19:42:12.193368Z"
    },
    "papermill": {
     "duration": null,
     "end_time": null,
     "exception": null,
     "start_time": null,
     "status": "pending"
    },
    "tags": []
   },
   "outputs": [],
   "source": [
    "# Function to filter out non-character entities\n",
    "def filter_entity(ent_list, character_df):\n",
    "    return [ent for ent in ent_list \n",
    "            if ent in list(character_df.character) \n",
    "            or ent in list(character_df.character_firstname)]"
   ]
  },
  {
   "cell_type": "code",
   "execution_count": null,
   "id": "ec2e3ad3",
   "metadata": {
    "execution": {
     "iopub.execute_input": "2023-10-31T19:42:23.011297Z",
     "iopub.status.busy": "2023-10-31T19:42:23.010033Z",
     "iopub.status.idle": "2023-10-31T19:42:23.020657Z",
     "shell.execute_reply": "2023-10-31T19:42:23.019324Z",
     "shell.execute_reply.started": "2023-10-31T19:42:23.011250Z"
    },
    "papermill": {
     "duration": null,
     "end_time": null,
     "exception": null,
     "start_time": null,
     "status": "pending"
    },
    "tags": []
   },
   "outputs": [],
   "source": [
    "filter_entity([\"Geralt\", \"Thu\", \"2\"], character_df)"
   ]
  },
  {
   "cell_type": "code",
   "execution_count": null,
   "id": "28d5e635",
   "metadata": {
    "execution": {
     "iopub.execute_input": "2023-10-31T19:42:35.540321Z",
     "iopub.status.busy": "2023-10-31T19:42:35.539318Z",
     "iopub.status.idle": "2023-10-31T19:42:38.081217Z",
     "shell.execute_reply": "2023-10-31T19:42:38.080329Z",
     "shell.execute_reply.started": "2023-10-31T19:42:35.540282Z"
    },
    "papermill": {
     "duration": null,
     "end_time": null,
     "exception": null,
     "start_time": null,
     "status": "pending"
    },
    "tags": []
   },
   "outputs": [],
   "source": [
    "sent_entity_df['character_entities'] = sent_entity_df['entities'].apply(lambda x: filter_entity(x, character_df))\n",
    "\n",
    "# Filter out sentences that don't have any character entities\n",
    "sent_entity_df_filtered = sent_entity_df[sent_entity_df['character_entities'].map(len) > 0]\n",
    "sent_entity_df_filtered.head(10)"
   ]
  },
  {
   "cell_type": "code",
   "execution_count": null,
   "id": "6156146b",
   "metadata": {
    "execution": {
     "iopub.execute_input": "2023-10-31T19:42:47.503708Z",
     "iopub.status.busy": "2023-10-31T19:42:47.503276Z",
     "iopub.status.idle": "2023-10-31T19:42:47.515630Z",
     "shell.execute_reply": "2023-10-31T19:42:47.514218Z",
     "shell.execute_reply.started": "2023-10-31T19:42:47.503675Z"
    },
    "papermill": {
     "duration": null,
     "end_time": null,
     "exception": null,
     "start_time": null,
     "status": "pending"
    },
    "tags": []
   },
   "outputs": [],
   "source": [
    "# Take only first name of characters\n",
    "sent_entity_df_filtered['character_entities'] = sent_entity_df_filtered['character_entities'].apply(lambda x: [item.split()[0] \n",
    "                                                                                                               for item in x])"
   ]
  },
  {
   "cell_type": "code",
   "execution_count": null,
   "id": "93c5a7e2",
   "metadata": {
    "execution": {
     "iopub.execute_input": "2023-10-31T19:43:05.312886Z",
     "iopub.status.busy": "2023-10-31T19:43:05.312380Z",
     "iopub.status.idle": "2023-10-31T19:43:05.346549Z",
     "shell.execute_reply": "2023-10-31T19:43:05.345411Z",
     "shell.execute_reply.started": "2023-10-31T19:43:05.312847Z"
    },
    "papermill": {
     "duration": null,
     "end_time": null,
     "exception": null,
     "start_time": null,
     "status": "pending"
    },
    "tags": []
   },
   "outputs": [],
   "source": [
    "pd.reset_option('^display.', silent=True)\n",
    "sent_entity_df_filtered"
   ]
  },
  {
   "cell_type": "markdown",
   "id": "147859bb",
   "metadata": {
    "papermill": {
     "duration": null,
     "end_time": null,
     "exception": null,
     "start_time": null,
     "status": "pending"
    },
    "tags": []
   },
   "source": [
    "# Create relationships"
   ]
  },
  {
   "cell_type": "code",
   "execution_count": null,
   "id": "13172bb2",
   "metadata": {
    "execution": {
     "iopub.execute_input": "2023-10-31T19:43:13.111843Z",
     "iopub.status.busy": "2023-10-31T19:43:13.111430Z",
     "iopub.status.idle": "2023-10-31T19:43:15.771623Z",
     "shell.execute_reply": "2023-10-31T19:43:15.770380Z",
     "shell.execute_reply.started": "2023-10-31T19:43:13.111811Z"
    },
    "papermill": {
     "duration": null,
     "end_time": null,
     "exception": null,
     "start_time": null,
     "status": "pending"
    },
    "tags": []
   },
   "outputs": [],
   "source": [
    "window_size = 5\n",
    "relationships = []\n",
    "\n",
    "for i in range(sent_entity_df_filtered.index[-1]):\n",
    "    end_i = min(i+5, sent_entity_df_filtered.index[-1])\n",
    "    char_list = sum((sent_entity_df_filtered.loc[i: end_i].character_entities), [])\n",
    "    \n",
    "    # Remove duplicated characters that are next to each other\n",
    "    char_unique = [char_list[i] for i in range(len(char_list)) \n",
    "                   if (i==0) or char_list[i] != char_list[i-1]]\n",
    "    \n",
    "    if len(char_unique) > 1:\n",
    "        for idx, a in enumerate(char_unique[:-1]):\n",
    "            b = char_unique[idx + 1]\n",
    "            relationships.append({\"source\": a, \"target\": b})"
   ]
  },
  {
   "cell_type": "code",
   "execution_count": null,
   "id": "55af5035",
   "metadata": {
    "execution": {
     "iopub.execute_input": "2023-10-31T19:43:15.774172Z",
     "iopub.status.busy": "2023-10-31T19:43:15.773772Z",
     "iopub.status.idle": "2023-10-31T19:43:15.785885Z",
     "shell.execute_reply": "2023-10-31T19:43:15.784617Z",
     "shell.execute_reply.started": "2023-10-31T19:43:15.774115Z"
    },
    "papermill": {
     "duration": null,
     "end_time": null,
     "exception": null,
     "start_time": null,
     "status": "pending"
    },
    "tags": []
   },
   "outputs": [],
   "source": [
    "relationship_df = pd.DataFrame(relationships)"
   ]
  },
  {
   "cell_type": "code",
   "execution_count": null,
   "id": "c43a1ad7",
   "metadata": {
    "execution": {
     "iopub.execute_input": "2023-10-31T19:43:25.726923Z",
     "iopub.status.busy": "2023-10-31T19:43:25.726463Z",
     "iopub.status.idle": "2023-10-31T19:43:25.739215Z",
     "shell.execute_reply": "2023-10-31T19:43:25.737975Z",
     "shell.execute_reply.started": "2023-10-31T19:43:25.726885Z"
    },
    "papermill": {
     "duration": null,
     "end_time": null,
     "exception": null,
     "start_time": null,
     "status": "pending"
    },
    "tags": []
   },
   "outputs": [],
   "source": [
    "pd.set_option('display.max_rows', None)\n",
    "relationship_df.head(10)"
   ]
  },
  {
   "cell_type": "code",
   "execution_count": null,
   "id": "a1975574",
   "metadata": {
    "execution": {
     "iopub.execute_input": "2023-10-31T19:44:03.354745Z",
     "iopub.status.busy": "2023-10-31T19:44:03.354333Z",
     "iopub.status.idle": "2023-10-31T19:44:03.373550Z",
     "shell.execute_reply": "2023-10-31T19:44:03.372389Z",
     "shell.execute_reply.started": "2023-10-31T19:44:03.354713Z"
    },
    "papermill": {
     "duration": null,
     "end_time": null,
     "exception": null,
     "start_time": null,
     "status": "pending"
    },
    "tags": []
   },
   "outputs": [],
   "source": [
    "# Sort the cases with a->b and b->a\n",
    "relationship_df = pd.DataFrame(np.sort(relationship_df.values, axis = 1), columns = relationship_df.columns)\n",
    "relationship_df.head(10)"
   ]
  },
  {
   "cell_type": "code",
   "execution_count": null,
   "id": "d32b89e1",
   "metadata": {
    "execution": {
     "iopub.execute_input": "2023-10-31T19:44:37.021423Z",
     "iopub.status.busy": "2023-10-31T19:44:37.020932Z",
     "iopub.status.idle": "2023-10-31T19:44:37.041055Z",
     "shell.execute_reply": "2023-10-31T19:44:37.039555Z",
     "shell.execute_reply.started": "2023-10-31T19:44:37.021385Z"
    },
    "papermill": {
     "duration": null,
     "end_time": null,
     "exception": null,
     "start_time": null,
     "status": "pending"
    },
    "tags": []
   },
   "outputs": [],
   "source": [
    "relationship_df[\"value\"] = 1\n",
    "relationship_df = relationship_df.groupby([\"source\",\"target\"], sort=False, as_index=False).sum()"
   ]
  },
  {
   "cell_type": "code",
   "execution_count": null,
   "id": "1d647fc0",
   "metadata": {
    "execution": {
     "iopub.execute_input": "2023-10-31T19:44:46.617680Z",
     "iopub.status.busy": "2023-10-31T19:44:46.617247Z",
     "iopub.status.idle": "2023-10-31T19:44:46.631608Z",
     "shell.execute_reply": "2023-10-31T19:44:46.630281Z",
     "shell.execute_reply.started": "2023-10-31T19:44:46.617646Z"
    },
    "papermill": {
     "duration": null,
     "end_time": null,
     "exception": null,
     "start_time": null,
     "status": "pending"
    },
    "tags": []
   },
   "outputs": [],
   "source": [
    "relationship_df.head(10)"
   ]
  },
  {
   "cell_type": "code",
   "execution_count": null,
   "id": "4c4ca81c",
   "metadata": {
    "execution": {
     "iopub.execute_input": "2023-10-31T19:44:59.540043Z",
     "iopub.status.busy": "2023-10-31T19:44:59.539601Z",
     "iopub.status.idle": "2023-10-31T19:44:59.546035Z",
     "shell.execute_reply": "2023-10-31T19:44:59.544789Z",
     "shell.execute_reply.started": "2023-10-31T19:44:59.540008Z"
    },
    "papermill": {
     "duration": null,
     "end_time": null,
     "exception": null,
     "start_time": null,
     "status": "pending"
    },
    "tags": []
   },
   "outputs": [],
   "source": [
    "# Graph analysis and visualization"
   ]
  },
  {
   "cell_type": "code",
   "execution_count": null,
   "id": "9a04c7a3",
   "metadata": {
    "execution": {
     "iopub.execute_input": "2023-10-31T19:45:06.968309Z",
     "iopub.status.busy": "2023-10-31T19:45:06.967856Z",
     "iopub.status.idle": "2023-10-31T19:45:06.977936Z",
     "shell.execute_reply": "2023-10-31T19:45:06.976708Z",
     "shell.execute_reply.started": "2023-10-31T19:45:06.968274Z"
    },
    "papermill": {
     "duration": null,
     "end_time": null,
     "exception": null,
     "start_time": null,
     "status": "pending"
    },
    "tags": []
   },
   "outputs": [],
   "source": [
    "# Create a graph from a pandas dataframe\n",
    "G = nx.from_pandas_edgelist(relationship_df, \n",
    "                            source = \"source\", \n",
    "                            target = \"target\", \n",
    "                            edge_attr = \"value\", \n",
    "                            create_using = nx.Graph())"
   ]
  },
  {
   "cell_type": "code",
   "execution_count": null,
   "id": "ccdfc535",
   "metadata": {
    "execution": {
     "iopub.execute_input": "2023-10-31T19:24:57.530046Z",
     "iopub.status.busy": "2023-10-31T19:24:57.529467Z",
     "iopub.status.idle": "2023-10-31T19:24:57.538562Z",
     "shell.execute_reply": "2023-10-31T19:24:57.537221Z",
     "shell.execute_reply.started": "2023-10-31T19:24:57.529994Z"
    },
    "papermill": {
     "duration": null,
     "end_time": null,
     "exception": null,
     "start_time": null,
     "status": "pending"
    },
    "tags": []
   },
   "outputs": [],
   "source": [
    "# Function to filter out non-character entities\n",
    "def filter_entity(ent_list, character_df):\n",
    "    return [ent for ent in ent_list \n",
    "            if ent in list(character_df.character) \n",
    "            or ent in list(character_df.character_firstname)]"
   ]
  },
  {
   "cell_type": "code",
   "execution_count": null,
   "id": "f5ef025d",
   "metadata": {
    "execution": {
     "iopub.execute_input": "2023-10-31T19:45:19.945313Z",
     "iopub.status.busy": "2023-10-31T19:45:19.944845Z",
     "iopub.status.idle": "2023-10-31T19:45:19.951047Z",
     "shell.execute_reply": "2023-10-31T19:45:19.949353Z",
     "shell.execute_reply.started": "2023-10-31T19:45:19.945275Z"
    },
    "papermill": {
     "duration": null,
     "end_time": null,
     "exception": null,
     "start_time": null,
     "status": "pending"
    },
    "tags": []
   },
   "outputs": [],
   "source": [
    "## Graph visualization - Networkx"
   ]
  },
  {
   "cell_type": "code",
   "execution_count": null,
   "id": "a66ef4c0",
   "metadata": {
    "execution": {
     "iopub.execute_input": "2023-10-31T19:45:28.758850Z",
     "iopub.status.busy": "2023-10-31T19:45:28.758442Z",
     "iopub.status.idle": "2023-10-31T19:45:30.216270Z",
     "shell.execute_reply": "2023-10-31T19:45:30.214519Z",
     "shell.execute_reply.started": "2023-10-31T19:45:28.758820Z"
    },
    "papermill": {
     "duration": null,
     "end_time": null,
     "exception": null,
     "start_time": null,
     "status": "pending"
    },
    "tags": []
   },
   "outputs": [],
   "source": [
    "plt.figure(figsize=(10,10))\n",
    "pos = nx.kamada_kawai_layout(G)\n",
    "nx.draw(G, with_labels=True, node_color='skyblue', edge_cmap=plt.cm.Blues, pos = pos)\n",
    "plt.show()"
   ]
  },
  {
   "cell_type": "markdown",
   "id": "f6d47329",
   "metadata": {
    "papermill": {
     "duration": null,
     "end_time": null,
     "exception": null,
     "start_time": null,
     "status": "pending"
    },
    "tags": []
   },
   "source": [
    "## Graph visualization - Pyvis"
   ]
  },
  {
   "cell_type": "code",
   "execution_count": null,
   "id": "b7e666e1",
   "metadata": {
    "execution": {
     "iopub.execute_input": "2023-10-31T19:46:12.398322Z",
     "iopub.status.busy": "2023-10-31T19:46:12.397868Z",
     "iopub.status.idle": "2023-10-31T19:46:27.307361Z",
     "shell.execute_reply": "2023-10-31T19:46:27.305670Z",
     "shell.execute_reply.started": "2023-10-31T19:46:12.398288Z"
    },
    "papermill": {
     "duration": null,
     "end_time": null,
     "exception": null,
     "start_time": null,
     "status": "pending"
    },
    "tags": []
   },
   "outputs": [],
   "source": [
    "!pip install pyvis"
   ]
  },
  {
   "cell_type": "code",
   "execution_count": null,
   "id": "da038fca",
   "metadata": {
    "execution": {
     "iopub.execute_input": "2023-10-31T19:46:27.310750Z",
     "iopub.status.busy": "2023-10-31T19:46:27.310319Z",
     "iopub.status.idle": "2023-10-31T19:46:27.435788Z",
     "shell.execute_reply": "2023-10-31T19:46:27.434409Z",
     "shell.execute_reply.started": "2023-10-31T19:46:27.310712Z"
    },
    "papermill": {
     "duration": null,
     "end_time": null,
     "exception": null,
     "start_time": null,
     "status": "pending"
    },
    "tags": []
   },
   "outputs": [],
   "source": [
    "from pyvis.network import Network\n",
    "net = Network(notebook = True, width=\"1000px\", height=\"700px\", bgcolor='#222222', font_color='white')\n",
    "\n",
    "node_degree = dict(G.degree)\n",
    "\n",
    "#Setting up node size attribute\n",
    "nx.set_node_attributes(G, node_degree, 'size')\n",
    "\n",
    "net.from_nx(G)\n",
    "net.show(\"witcher.html\")"
   ]
  },
  {
   "cell_type": "markdown",
   "id": "b1227d11",
   "metadata": {
    "papermill": {
     "duration": null,
     "end_time": null,
     "exception": null,
     "start_time": null,
     "status": "pending"
    },
    "tags": []
   },
   "source": [
    "# The most important characters in The Witcher"
   ]
  },
  {
   "cell_type": "code",
   "execution_count": null,
   "id": "4ead246d",
   "metadata": {
    "execution": {
     "iopub.execute_input": "2023-10-31T19:47:41.707383Z",
     "iopub.status.busy": "2023-10-31T19:47:41.706771Z",
     "iopub.status.idle": "2023-10-31T19:47:41.723699Z",
     "shell.execute_reply": "2023-10-31T19:47:41.722267Z",
     "shell.execute_reply.started": "2023-10-31T19:47:41.707338Z"
    },
    "papermill": {
     "duration": null,
     "end_time": null,
     "exception": null,
     "start_time": null,
     "status": "pending"
    },
    "tags": []
   },
   "outputs": [],
   "source": [
    "# Degree centrality\n",
    "degree_dict = nx.degree_centrality(G)\n",
    "degree_dict"
   ]
  },
  {
   "cell_type": "code",
   "execution_count": null,
   "id": "0a818d11",
   "metadata": {
    "execution": {
     "iopub.execute_input": "2023-10-31T19:47:54.240254Z",
     "iopub.status.busy": "2023-10-31T19:47:54.239790Z",
     "iopub.status.idle": "2023-10-31T19:47:54.649136Z",
     "shell.execute_reply": "2023-10-31T19:47:54.647931Z",
     "shell.execute_reply.started": "2023-10-31T19:47:54.240218Z"
    },
    "papermill": {
     "duration": null,
     "end_time": null,
     "exception": null,
     "start_time": null,
     "status": "pending"
    },
    "tags": []
   },
   "outputs": [],
   "source": [
    "degree_df = pd.DataFrame.from_dict(degree_dict, orient='index', columns=['centrality'])\n",
    "# Plot top 10 nodes\n",
    "degree_df.sort_values('centrality', ascending=False)[0:9].plot(kind=\"bar\")"
   ]
  },
  {
   "cell_type": "code",
   "execution_count": null,
   "id": "76c67eca",
   "metadata": {
    "execution": {
     "iopub.execute_input": "2023-10-31T19:48:03.973849Z",
     "iopub.status.busy": "2023-10-31T19:48:03.973400Z",
     "iopub.status.idle": "2023-10-31T19:48:04.443834Z",
     "shell.execute_reply": "2023-10-31T19:48:04.442652Z",
     "shell.execute_reply.started": "2023-10-31T19:48:03.973816Z"
    },
    "papermill": {
     "duration": null,
     "end_time": null,
     "exception": null,
     "start_time": null,
     "status": "pending"
    },
    "tags": []
   },
   "outputs": [],
   "source": [
    "# Betweenness centrality\n",
    "betweenness_dict = nx.betweenness_centrality(G)\n",
    "betweenness_df = pd.DataFrame.from_dict(betweenness_dict, orient='index', columns=['centrality'])\n",
    "# Plot top 10 nodes\n",
    "betweenness_df.sort_values('centrality', ascending=False)[0:9].plot(kind=\"bar\")"
   ]
  },
  {
   "cell_type": "code",
   "execution_count": null,
   "id": "ccb663d1",
   "metadata": {
    "execution": {
     "iopub.execute_input": "2023-10-31T19:48:13.606779Z",
     "iopub.status.busy": "2023-10-31T19:48:13.606336Z",
     "iopub.status.idle": "2023-10-31T19:48:13.961872Z",
     "shell.execute_reply": "2023-10-31T19:48:13.960804Z",
     "shell.execute_reply.started": "2023-10-31T19:48:13.606747Z"
    },
    "papermill": {
     "duration": null,
     "end_time": null,
     "exception": null,
     "start_time": null,
     "status": "pending"
    },
    "tags": []
   },
   "outputs": [],
   "source": [
    "# Closeness centrality\n",
    "closeness_dict = nx.closeness_centrality(G)\n",
    "closeness_df = pd.DataFrame.from_dict(closeness_dict, orient='index', columns=['centrality'])\n",
    "# Plot top 10 nodes\n",
    "closeness_df.sort_values('centrality', ascending=False)[0:9].plot(kind=\"bar\")"
   ]
  },
  {
   "cell_type": "code",
   "execution_count": null,
   "id": "28ad57ec",
   "metadata": {
    "execution": {
     "iopub.execute_input": "2023-10-31T19:48:38.584334Z",
     "iopub.status.busy": "2023-10-31T19:48:38.583828Z",
     "iopub.status.idle": "2023-10-31T19:48:38.591536Z",
     "shell.execute_reply": "2023-10-31T19:48:38.590248Z",
     "shell.execute_reply.started": "2023-10-31T19:48:38.584294Z"
    },
    "papermill": {
     "duration": null,
     "end_time": null,
     "exception": null,
     "start_time": null,
     "status": "pending"
    },
    "tags": []
   },
   "outputs": [],
   "source": [
    "# Save centrality measures\n",
    "nx.set_node_attributes(G, degree_dict, 'degree_centrality')\n",
    "nx.set_node_attributes(G, betweenness_dict, 'betweenness_centrality')\n",
    "nx.set_node_attributes(G, closeness_dict, 'closeness_centrality')"
   ]
  },
  {
   "cell_type": "markdown",
   "id": "334e45d2",
   "metadata": {
    "papermill": {
     "duration": null,
     "end_time": null,
     "exception": null,
     "start_time": null,
     "status": "pending"
    },
    "tags": []
   },
   "source": [
    "## Community detection"
   ]
  },
  {
   "cell_type": "code",
   "execution_count": null,
   "id": "8d5ccab5",
   "metadata": {
    "execution": {
     "iopub.execute_input": "2023-10-31T19:49:06.414085Z",
     "iopub.status.busy": "2023-10-31T19:49:06.413653Z",
     "iopub.status.idle": "2023-10-31T19:49:06.426867Z",
     "shell.execute_reply": "2023-10-31T19:49:06.424957Z",
     "shell.execute_reply.started": "2023-10-31T19:49:06.414055Z"
    },
    "papermill": {
     "duration": null,
     "end_time": null,
     "exception": null,
     "start_time": null,
     "status": "pending"
    },
    "tags": []
   },
   "outputs": [],
   "source": [
    "import community as community_louvain"
   ]
  },
  {
   "cell_type": "code",
   "execution_count": null,
   "id": "0314eb67",
   "metadata": {
    "execution": {
     "iopub.execute_input": "2023-10-31T19:49:07.953095Z",
     "iopub.status.busy": "2023-10-31T19:49:07.952611Z",
     "iopub.status.idle": "2023-10-31T19:49:07.993250Z",
     "shell.execute_reply": "2023-10-31T19:49:07.992260Z",
     "shell.execute_reply.started": "2023-10-31T19:49:07.953057Z"
    },
    "papermill": {
     "duration": null,
     "end_time": null,
     "exception": null,
     "start_time": null,
     "status": "pending"
    },
    "tags": []
   },
   "outputs": [],
   "source": [
    "communities = community_louvain.best_partition(G)"
   ]
  },
  {
   "cell_type": "code",
   "execution_count": null,
   "id": "bcb2d387",
   "metadata": {
    "execution": {
     "iopub.execute_input": "2023-10-31T19:52:53.522038Z",
     "iopub.status.busy": "2023-10-31T19:52:53.521577Z",
     "iopub.status.idle": "2023-10-31T19:52:53.538644Z",
     "shell.execute_reply": "2023-10-31T19:52:53.537222Z",
     "shell.execute_reply.started": "2023-10-31T19:52:53.522002Z"
    },
    "papermill": {
     "duration": null,
     "end_time": null,
     "exception": null,
     "start_time": null,
     "status": "pending"
    },
    "tags": []
   },
   "outputs": [],
   "source": [
    "communities"
   ]
  },
  {
   "cell_type": "code",
   "execution_count": null,
   "id": "18333c07",
   "metadata": {
    "execution": {
     "iopub.execute_input": "2023-10-31T19:49:32.429179Z",
     "iopub.status.busy": "2023-10-31T19:49:32.428726Z",
     "iopub.status.idle": "2023-10-31T19:49:32.434842Z",
     "shell.execute_reply": "2023-10-31T19:49:32.433606Z",
     "shell.execute_reply.started": "2023-10-31T19:49:32.429127Z"
    },
    "papermill": {
     "duration": null,
     "end_time": null,
     "exception": null,
     "start_time": null,
     "status": "pending"
    },
    "tags": []
   },
   "outputs": [],
   "source": [
    "nx.set_node_attributes(G, communities, 'group')"
   ]
  },
  {
   "cell_type": "code",
   "execution_count": null,
   "id": "0ca7bf53",
   "metadata": {
    "execution": {
     "iopub.execute_input": "2023-10-31T19:49:40.533528Z",
     "iopub.status.busy": "2023-10-31T19:49:40.533117Z",
     "iopub.status.idle": "2023-10-31T19:49:40.609497Z",
     "shell.execute_reply": "2023-10-31T19:49:40.608242Z",
     "shell.execute_reply.started": "2023-10-31T19:49:40.533496Z"
    },
    "papermill": {
     "duration": null,
     "end_time": null,
     "exception": null,
     "start_time": null,
     "status": "pending"
    },
    "tags": []
   },
   "outputs": [],
   "source": [
    "com_net = Network(notebook = True, width=\"1000px\", height=\"700px\", bgcolor='#222222', font_color='white')\n",
    "com_net.from_nx(G)\n",
    "com_net.show(\"witcher_communities.html\")"
   ]
  },
  {
   "cell_type": "markdown",
   "id": "851d217f",
   "metadata": {
    "papermill": {
     "duration": null,
     "end_time": null,
     "exception": null,
     "start_time": null,
     "status": "pending"
    },
    "tags": []
   },
   "source": [
    "# Evolution of characters' importance"
   ]
  },
  {
   "cell_type": "code",
   "execution_count": null,
   "id": "42890a56",
   "metadata": {
    "execution": {
     "iopub.execute_input": "2023-10-31T19:56:14.747039Z",
     "iopub.status.busy": "2023-10-31T19:56:14.746600Z",
     "iopub.status.idle": "2023-10-31T19:56:14.766429Z",
     "shell.execute_reply": "2023-10-31T19:56:14.764871Z",
     "shell.execute_reply.started": "2023-10-31T19:56:14.747006Z"
    },
    "papermill": {
     "duration": null,
     "end_time": null,
     "exception": null,
     "start_time": null,
     "status": "pending"
    },
    "tags": []
   },
   "outputs": [],
   "source": [
    "# from lib.utils.functions import * \n",
    "\n",
    "# These below functions normally must be in utils folder. But we are working on kaggle\n",
    "import pandas as pd\n",
    "import numpy as np\n",
    "import os\n",
    "import spacy\n",
    "from spacy import displacy\n",
    "import networkx as nx\n",
    "\n",
    "import matplotlib.pyplot as plt\n",
    "\n",
    "\n",
    "def ner(file_name):\n",
    "    \"\"\"\n",
    "    Function to process text from a text file (.txt) using Spacy.\n",
    "    \n",
    "    Params:\n",
    "    file_name -- name of a txt file as string\n",
    "    \n",
    "    Returns:\n",
    "    a processed doc file using Spacy English language model\n",
    "    \n",
    "    \"\"\"\n",
    "    # Load spacy English languague model\n",
    "    nlp = spacy.load(\"en_core_web_sm\")\n",
    "    book_text = open(file_name).read()\n",
    "    book_doc = nlp(book_text)\n",
    "    \n",
    "    return book_doc\n",
    "\n",
    "\n",
    "def get_ne_list_per_sentence(spacy_doc):\n",
    "    \"\"\"\n",
    "    Get a list of entites per sentence of a Spacy document and store in a dataframe.\n",
    "    \n",
    "    Params:\n",
    "    spacy_doc -- a Spacy processed document\n",
    "    \n",
    "    Returns:\n",
    "    a dataframe containing the sentences and corresponding list of recognised named entities       in the sentences\n",
    "    \"\"\"\n",
    "    \n",
    "    sent_entity_df = []\n",
    "\n",
    "    # Loop through sentences, store named entity list for each sentence\n",
    "    for sent in spacy_doc.sents:\n",
    "        entity_list = [ent.text for ent in sent.ents]\n",
    "        sent_entity_df.append({\"sentence\": sent, \"entities\": entity_list})\n",
    "\n",
    "    sent_entity_df = pd.DataFrame(sent_entity_df)\n",
    "    \n",
    "    return sent_entity_df\n",
    "\n",
    "\n",
    "def filter_entity(ent_list, character_df):\n",
    "    \"\"\"\n",
    "    Function to filter out non-character entities.\n",
    "    \n",
    "    Params:\n",
    "    ent_list -- list of entities to be filtered\n",
    "    character_df -- a dataframe contain characters' names and characters' first names\n",
    "    \n",
    "    Returns:\n",
    "    a list of entities that are characters (matching by names or first names).\n",
    "    \n",
    "    \"\"\"\n",
    "    return [ent for ent in ent_list \n",
    "            if ent in list(character_df.character) \n",
    "            or ent in list(character_df.character_firstname)]\n",
    "\n",
    "\n",
    "def create_relationships(df, window_size):\n",
    "    \n",
    "    \"\"\"\n",
    "    Create a dataframe of relationships based on the df dataframe (containing lists of chracters per sentence) and the window size of n sentences.\n",
    "    \n",
    "    Params:\n",
    "    df -- a dataframe containing a column called character_entities with the list of chracters for each sentence of a document.\n",
    "    window_size -- size of the windows (number of sentences) for creating relationships between two adjacent characters in the text.\n",
    "    \n",
    "    Returns:\n",
    "    a relationship dataframe containing 3 columns: source, target, value.\n",
    "    \n",
    "    \"\"\"\n",
    "    \n",
    "    relationships = []\n",
    "\n",
    "    for i in range(df.index[-1]):\n",
    "        end_i = min(i + window_size, df.index[-1])\n",
    "        char_list = sum((df.loc[i: end_i].character_entities), [])\n",
    "\n",
    "        # Remove duplicated characters that are next to each other\n",
    "        char_unique = [char_list[i] for i in range(len(char_list)) \n",
    "                       if (i==0) or char_list[i] != char_list[i-1]]\n",
    "\n",
    "        if len(char_unique) > 1:\n",
    "            for idx, a in enumerate(char_unique[:-1]):\n",
    "                b = char_unique[idx + 1]\n",
    "                relationships.append({\"source\": a, \"target\": b})\n",
    "           \n",
    "    relationship_df = pd.DataFrame(relationships)\n",
    "    # Sort the cases with a->b and b->a\n",
    "    relationship_df = pd.DataFrame(np.sort(relationship_df.values, axis = 1), \n",
    "                                   columns = relationship_df.columns)\n",
    "    relationship_df[\"value\"] = 1\n",
    "    relationship_df = relationship_df.groupby([\"source\",\"target\"], \n",
    "                                              sort=False, \n",
    "                                              as_index=False).sum()\n",
    "                \n",
    "    return relationship_df"
   ]
  },
  {
   "cell_type": "code",
   "execution_count": null,
   "id": "815a806e",
   "metadata": {
    "execution": {
     "iopub.execute_input": "2023-10-31T19:56:16.923618Z",
     "iopub.status.busy": "2023-10-31T19:56:16.923120Z",
     "iopub.status.idle": "2023-10-31T19:56:18.129963Z",
     "shell.execute_reply": "2023-10-31T19:56:18.128655Z",
     "shell.execute_reply.started": "2023-10-31T19:56:16.923575Z"
    },
    "papermill": {
     "duration": null,
     "end_time": null,
     "exception": null,
     "start_time": null,
     "status": "pending"
    },
    "tags": []
   },
   "outputs": [],
   "source": [
    "# Initialize empty list for graphs from books\n",
    "books_graph = []\n",
    "all_books = [b for b in os.scandir(\"/kaggle/input/witcher-books/data\") if '.txt' in b.name]\n",
    "# Load spacy English languague model\n",
    "nlp = spacy.load(\"en_core_web_sm\")\n",
    "\n",
    "# Sort dir entries by name\n",
    "all_books.sort(key=lambda x: x.name)"
   ]
  },
  {
   "cell_type": "code",
   "execution_count": null,
   "id": "86ddb472",
   "metadata": {
    "execution": {
     "iopub.execute_input": "2023-10-31T19:56:21.733347Z",
     "iopub.status.busy": "2023-10-31T19:56:21.732383Z",
     "iopub.status.idle": "2023-10-31T20:27:48.431837Z",
     "shell.execute_reply": "2023-10-31T20:27:48.430530Z",
     "shell.execute_reply.started": "2023-10-31T19:56:21.733300Z"
    },
    "papermill": {
     "duration": null,
     "end_time": null,
     "exception": null,
     "start_time": null,
     "status": "pending"
    },
    "tags": []
   },
   "outputs": [],
   "source": [
    "# Loop through book list and create graphs\n",
    "for book in all_books:\n",
    "    book_text = ner(book)\n",
    "    \n",
    "    # Get list of entities per sentences\n",
    "    sent_entity_df = get_ne_list_per_sentence(book_text)\n",
    "    \n",
    "    # Select only character entities\n",
    "    sent_entity_df['character_entities'] = sent_entity_df['entities'].apply(lambda x: filter_entity(x, character_df))\n",
    "\n",
    "    # Filter out sentences that don't have any character entities\n",
    "    sent_entity_df_filtered = sent_entity_df[sent_entity_df['character_entities'].map(len) > 0]\n",
    "    \n",
    "    # Take only first name of characters\n",
    "    sent_entity_df_filtered['character_entities'] = sent_entity_df_filtered['character_entities'].apply(lambda x: [item.split()[0] \n",
    "                                                                                                               for item in x])\n",
    "\n",
    "    # Create relationship df\n",
    "    relationship_df = create_relationships(df = sent_entity_df_filtered, window_size = 5)                                                                                                               \n",
    "    \n",
    "    # Create a graph from a pandas dataframe\n",
    "    G = nx.from_pandas_edgelist(relationship_df, \n",
    "                                source = \"source\", \n",
    "                                target = \"target\", \n",
    "                                edge_attr = \"value\", \n",
    "                                create_using = nx.Graph())     \n",
    "    \n",
    "    books_graph.append(G) "
   ]
  },
  {
   "cell_type": "code",
   "execution_count": null,
   "id": "c28ccb70",
   "metadata": {
    "execution": {
     "iopub.execute_input": "2023-10-31T20:27:48.435345Z",
     "iopub.status.busy": "2023-10-31T20:27:48.434206Z",
     "iopub.status.idle": "2023-10-31T20:27:48.893949Z",
     "shell.execute_reply": "2023-10-31T20:27:48.892648Z",
     "shell.execute_reply.started": "2023-10-31T20:27:48.435295Z"
    },
    "papermill": {
     "duration": null,
     "end_time": null,
     "exception": null,
     "start_time": null,
     "status": "pending"
    },
    "tags": []
   },
   "outputs": [],
   "source": [
    "# Creating a list of degree centrality of all the books\n",
    "evol = [nx.degree_centrality(book) for book in books_graph]\n",
    "\n",
    "# Creating a DataFrame from the list of degree centralities in all the books\n",
    "degree_evol_df = pd.DataFrame.from_records(evol)\n",
    "\n",
    "# Plotting the degree centrality evolution of 5 main characters\n",
    "degree_evol_df[[\"Geralt\", \"Ciri\", \"Yennefer\", \"Dandelion\", \"Vesemir\"]].plot()"
   ]
  },
  {
   "cell_type": "code",
   "execution_count": null,
   "id": "00be2932",
   "metadata": {
    "papermill": {
     "duration": null,
     "end_time": null,
     "exception": null,
     "start_time": null,
     "status": "pending"
    },
    "tags": []
   },
   "outputs": [],
   "source": []
  }
 ],
 "metadata": {
  "kernelspec": {
   "display_name": "Python 3",
   "language": "python",
   "name": "python3"
  },
  "language_info": {
   "codemirror_mode": {
    "name": "ipython",
    "version": 3
   },
   "file_extension": ".py",
   "mimetype": "text/x-python",
   "name": "python",
   "nbconvert_exporter": "python",
   "pygments_lexer": "ipython3",
   "version": "3.10.12"
  },
  "papermill": {
   "default_parameters": {},
   "duration": 52.47978,
   "end_time": "2023-10-31T20:33:50.394381",
   "environment_variables": {},
   "exception": true,
   "input_path": "__notebook__.ipynb",
   "output_path": "__notebook__.ipynb",
   "parameters": {},
   "start_time": "2023-10-31T20:32:57.914601",
   "version": "2.4.0"
  }
 },
 "nbformat": 4,
 "nbformat_minor": 5
}
